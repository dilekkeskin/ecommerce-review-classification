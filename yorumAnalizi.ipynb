{
 "cells": [
  {
   "cell_type": "markdown",
   "id": "cffa19b4-cd97-4af6-8aff-9132140bd65d",
   "metadata": {},
   "source": [
    "# E-ticaret Platformu Müşteri Yorumlarının Sınıflandırılması (Olumlu/Olumsuz/Nötr Yorum Sınıflandırma)\n",
    "**1. Gerekli Kütüphanelerin Eklenmesi**"
   ]
  },
  {
   "cell_type": "code",
   "execution_count": 2,
   "id": "ef101fe1-e53a-4ef8-93d9-ea1252e00e58",
   "metadata": {},
   "outputs": [],
   "source": [
    "import pandas as pd\n",
    "import numpy as np\n",
    "import matplotlib.pyplot as plt\n",
    "import seaborn as sns\n",
    "from sklearn.model_selection import train_test_split\n",
    "from sklearn.feature_extraction.text import TfidfVectorizer\n",
    "from sklearn.preprocessing import LabelEncoder\n",
    "from tensorflow.keras.models import Sequential\n",
    "from tensorflow.keras.layers import Dense, Dropout, Input\n",
    "from tensorflow.keras.utils import to_categorical\n",
    "from tensorflow.keras.optimizers import Adam\n",
    "from sklearn.metrics import confusion_matrix, classification_report\n",
    "import seaborn as sns\n",
    "import matplotlib.pyplot as plt"
   ]
  },
  {
   "cell_type": "code",
   "execution_count": 4,
   "id": "1020913c-b206-42db-9656-819be7346e96",
   "metadata": {},
   "outputs": [
    {
     "data": {
      "text/html": [
       "<div>\n",
       "<style scoped>\n",
       "    .dataframe tbody tr th:only-of-type {\n",
       "        vertical-align: middle;\n",
       "    }\n",
       "\n",
       "    .dataframe tbody tr th {\n",
       "        vertical-align: top;\n",
       "    }\n",
       "\n",
       "    .dataframe thead th {\n",
       "        text-align: right;\n",
       "    }\n",
       "</style>\n",
       "<table border=\"1\" class=\"dataframe\">\n",
       "  <thead>\n",
       "    <tr style=\"text-align: right;\">\n",
       "      <th></th>\n",
       "      <th>Metin</th>\n",
       "      <th>Durum</th>\n",
       "    </tr>\n",
       "  </thead>\n",
       "  <tbody>\n",
       "    <tr>\n",
       "      <th>0</th>\n",
       "      <td>evet anlatıldığı gibi</td>\n",
       "      <td>1</td>\n",
       "    </tr>\n",
       "    <tr>\n",
       "      <th>1</th>\n",
       "      <td>Daha öncede almıştım bu cihazdan ense ve sakal...</td>\n",
       "      <td>1</td>\n",
       "    </tr>\n",
       "    <tr>\n",
       "      <th>2</th>\n",
       "      <td>Ürün gayet başarılı sakal kesmede başlık sayıs...</td>\n",
       "      <td>1</td>\n",
       "    </tr>\n",
       "    <tr>\n",
       "      <th>3</th>\n",
       "      <td>Daha öncede aynısını almıştım çok güzel ve kal...</td>\n",
       "      <td>1</td>\n",
       "    </tr>\n",
       "    <tr>\n",
       "      <th>4</th>\n",
       "      <td>Erkek kuaförüyüm ense ve sıfır sakal traşı içi...</td>\n",
       "      <td>1</td>\n",
       "    </tr>\n",
       "  </tbody>\n",
       "</table>\n",
       "</div>"
      ],
      "text/plain": [
       "                                               Metin  Durum\n",
       "0                              evet anlatıldığı gibi      1\n",
       "1  Daha öncede almıştım bu cihazdan ense ve sakal...      1\n",
       "2  Ürün gayet başarılı sakal kesmede başlık sayıs...      1\n",
       "3  Daha öncede aynısını almıştım çok güzel ve kal...      1\n",
       "4  Erkek kuaförüyüm ense ve sıfır sakal traşı içi...      1"
      ]
     },
     "execution_count": 4,
     "metadata": {},
     "output_type": "execute_result"
    }
   ],
   "source": [
    "# Veri setini yükleyelim ve ınceleyelim\n",
    "data = pd.read_csv(r\"C:\\Users\\keski\\OneDrive\\Masaüstü\\Slaytlar\\4.sinifGuz\\YapaySinirAglari\\dataset2.csv\", delimiter=\";\")  \n",
    "data.head()"
   ]
  },
  {
   "cell_type": "markdown",
   "id": "dbcc7e5d-6bde-4894-a1b9-9d4c0d216829",
   "metadata": {},
   "source": [
    "**2. Veri Keşfi ve Temizleme**"
   ]
  },
  {
   "cell_type": "code",
   "execution_count": 6,
   "id": "0700d780-5a5c-441e-8b91-5b21ad836d07",
   "metadata": {},
   "outputs": [
    {
     "name": "stdout",
     "output_type": "stream",
     "text": [
      "<class 'pandas.core.frame.DataFrame'>\n",
      "RangeIndex: 19170 entries, 0 to 19169\n",
      "Data columns (total 2 columns):\n",
      " #   Column  Non-Null Count  Dtype \n",
      "---  ------  --------------  ----- \n",
      " 0   Metin   19170 non-null  object\n",
      " 1   Durum   19170 non-null  int64 \n",
      "dtypes: int64(1), object(1)\n",
      "memory usage: 299.7+ KB\n",
      "None\n",
      "Eksik veriler:\n",
      " Metin    0\n",
      "Durum    0\n",
      "dtype: int64\n"
     ]
    },
    {
     "data": {
      "image/png": "[encoded data removed]",
      "text/plain": [
       "<Figure size 640x480 with 1 Axes>"
      ]
     },
     "metadata": {},
     "output_type": "display_data"
    }
   ],
   "source": [
    "# Veri setinin özeti\n",
    "print(data.info())\n",
    "\n",
    "# Eksik verilerin kontrolü\n",
    "print(\"Eksik veriler:\\n\", data.isnull().sum())\n",
    "\n",
    "# Sütun isimlerini kontrol edelim\n",
    "data.columns\n",
    "\n",
    "# Yorumların uzunluk analizi yapılır\n",
    "data['metin_uzunluk'] = data['Metin'].apply(len)\n",
    "sns.histplot(data['metin_uzunluk'], bins=50, kde=True)\n",
    "plt.title(\"Yorum Uzunluk Dağılımı\")\n",
    "plt.xlabel(\"Uzunluk\")\n",
    "plt.ylabel(\"Frekans\")\n",
    "plt.show()"
   ]
  },
  {
   "cell_type": "markdown",
   "id": "1ff9075d-5d6b-4404-8fa2-5dc9a0e2c302",
   "metadata": {},
   "source": [
    "**3. Veri Ön İşleme**"
   ]
  },
  {
   "cell_type": "code",
   "execution_count": 22,
   "id": "c5497e89-c4ba-492c-a94e-463462b68505",
   "metadata": {},
   "outputs": [],
   "source": [
    "# Özel karakterler ve büyük harf temizleme\n",
    "data = data[data['Metin'].apply(len) > 10]\n",
    "def temizle(metin):\n",
    "    metin = metin.lower()\n",
    "    metin = metin.replace(\"\\n\", \" \")\n",
    "    metin = ''.join(char for char in metin if char.isalnum() or char.isspace())\n",
    "    return metin\n",
    "\n",
    "data['Temiz_Metin'] = data['Metin'].apply(temizle)\n",
    "\n",
    "# Label Encoding (Durum kolonunu sayısal formata çevirme)\n",
    "label_encoder = LabelEncoder()\n",
    "data['Durum_Kod'] = label_encoder.fit_transform(data['Durum'])\n",
    "\n",
    "# Durum kodlarını kategorik forma çevirme (3 sınıf için)\n",
    "y = to_categorical(data['Durum_Kod'])\n",
    "\n",
    "# Veri setini öğrenme ve test olarak ayıralım\n",
    "X = data['Temiz_Metin']\n",
    "X_train, X_test, y_train, y_test = train_test_split(X, y, test_size=0.2, random_state=42, stratify=data['Durum_Kod'])\n",
    "\n",
    "# Metin verisini TF-IDF vektörleştirme\n",
    "vectorizer = TfidfVectorizer(max_features=5000, ngram_range=(1, 2))\n",
    "X_train_vec = vectorizer.fit_transform(X_train).toarray()\n",
    "X_test_vec = vectorizer.transform(X_test).toarray()"
   ]
  },
  {
   "cell_type": "markdown",
   "id": "57566b25-e166-4cdf-aea8-777395acb483",
   "metadata": {},
   "source": [
    "**4. Model Geliştirme**"
   ]
  },
  {
   "cell_type": "code",
   "execution_count": 25,
   "id": "c1e8986e-b938-48f4-94c3-c3ed7211471d",
   "metadata": {},
   "outputs": [
    {
     "name": "stdout",
     "output_type": "stream",
     "text": [
      "Epoch 1/6\n",
      "\u001b[1m475/475\u001b[0m \u001b[32m━━━━━━━━━━━━━━━━━━━━\u001b[0m\u001b[37m\u001b[0m \u001b[1m8s\u001b[0m 14ms/step - accuracy: 0.6923 - loss: 0.6644 - val_accuracy: 0.9167 - val_loss: 0.2257\n",
      "Epoch 2/6\n",
      "\u001b[1m475/475\u001b[0m \u001b[32m━━━━━━━━━━━━━━━━━━━━\u001b[0m\u001b[37m\u001b[0m \u001b[1m7s\u001b[0m 14ms/step - accuracy: 0.9365 - loss: 0.1779 - val_accuracy: 0.9172 - val_loss: 0.2318\n",
      "Epoch 3/6\n",
      "\u001b[1m475/475\u001b[0m \u001b[32m━━━━━━━━━━━━━━━━━━━━\u001b[0m\u001b[37m\u001b[0m \u001b[1m6s\u001b[0m 13ms/step - accuracy: 0.9618 - loss: 0.1112 - val_accuracy: 0.9178 - val_loss: 0.2528\n",
      "Epoch 4/6\n",
      "\u001b[1m475/475\u001b[0m \u001b[32m━━━━━━━━━━━━━━━━━━━━\u001b[0m\u001b[37m\u001b[0m \u001b[1m7s\u001b[0m 14ms/step - accuracy: 0.9772 - loss: 0.0694 - val_accuracy: 0.9164 - val_loss: 0.2790\n",
      "Epoch 5/6\n",
      "\u001b[1m475/475\u001b[0m \u001b[32m━━━━━━━━━━━━━━━━━━━━\u001b[0m\u001b[37m\u001b[0m \u001b[1m6s\u001b[0m 13ms/step - accuracy: 0.9813 - loss: 0.0568 - val_accuracy: 0.9143 - val_loss: 0.3266\n",
      "Epoch 6/6\n",
      "\u001b[1m475/475\u001b[0m \u001b[32m━━━━━━━━━━━━━━━━━━━━\u001b[0m\u001b[37m\u001b[0m \u001b[1m6s\u001b[0m 14ms/step - accuracy: 0.9878 - loss: 0.0392 - val_accuracy: 0.9143 - val_loss: 0.3439\n"
     ]
    }
   ],
   "source": [
    "# ANN modeli oluşturalım\n",
    "model = Sequential([\n",
    "    Input(shape=(X_train_vec.shape[1],)),  # Input katmanı ile şekli belirleyin\n",
    "    Dense(256, activation='relu'),\n",
    "    Dropout(0.5),\n",
    "    Dense(128, activation='relu'),\n",
    "    Dropout(0.5),\n",
    "    Dense(64, activation='relu'),\n",
    "    Dropout(0.3),\n",
    "    Dense(3, activation='softmax')  # Çıkış katmanı, 3 sınıf için\n",
    "])\n",
    "\n",
    "model.compile(optimizer=Adam(learning_rate=0.001), loss='categorical_crossentropy', metrics=['accuracy'])\n",
    "\n",
    "# Modeli eğitelim\n",
    "history = model.fit(X_train_vec, y_train, epochs=6, batch_size=32, validation_data=(X_test_vec, y_test))"
   ]
  },
  {
   "cell_type": "markdown",
   "id": "a72f24ed-ffc8-43ec-a516-4d779f7cc17e",
   "metadata": {},
   "source": [
    "**5. Performans Değerlendirmesi**"
   ]
  },
  {
   "cell_type": "code",
   "execution_count": 27,
   "id": "a9825220-864a-4075-a3e4-3afe57ab6d5f",
   "metadata": {},
   "outputs": [
    {
     "data": {
      "image/png": "[encoded data removed]",
      "text/plain": [
       "<Figure size 640x480 with 1 Axes>"
      ]
     },
     "metadata": {},
     "output_type": "display_data"
    },
    {
     "name": "stdout",
     "output_type": "stream",
     "text": [
      "\u001b[1m119/119\u001b[0m \u001b[32m━━━━━━━━━━━━━━━━━━━━\u001b[0m\u001b[37m\u001b[0m \u001b[1m0s\u001b[0m 2ms/step - accuracy: 0.9129 - loss: 0.3474\n",
      "Test Doğruluğu: 0.91\n"
     ]
    }
   ],
   "source": [
    "# Modelin performansını grafikle gösterelim\n",
    "plt.plot(history.history['accuracy'], label='Eğitim Doğruluğu')\n",
    "plt.plot(history.history['val_accuracy'], label='Doğrulama Doğruluğu')\n",
    "plt.xlabel('Epochs')\n",
    "plt.ylabel('Doğruluk')\n",
    "plt.legend()\n",
    "plt.title('Model Performansı')\n",
    "plt.show()\n",
    "\n",
    "# Modeli test edelim\n",
    "loss, accuracy = model.evaluate(X_test_vec, y_test)\n",
    "print(f\"Test Doğruluğu: {accuracy:.2f}\")"
   ]
  },
  {
   "cell_type": "markdown",
   "id": "906bb1d1-a73d-4e6f-a7b4-c897d3c1d19a",
   "metadata": {},
   "source": [
    "**6. Demo**"
   ]
  },
  {
   "cell_type": "code",
   "execution_count": 211,
   "id": "889f27f8-9641-4f1f-852b-0282e98f0d52",
   "metadata": {},
   "outputs": [
    {
     "name": "stdin",
     "output_type": "stream",
     "text": [
      "Lütfen bir yorum girin (çıkmak için 'exit' yazın):  2 ci siparişim ve önceki aldığım ürün daha kaliteliydi.Şimdi bu ürün resmn sulandırılmış.\n"
     ]
    },
    {
     "name": "stdout",
     "output_type": "stream",
     "text": [
      "\u001b[1m1/1\u001b[0m \u001b[32m━━━━━━━━━━━━━━━━━━━━\u001b[0m\u001b[37m\u001b[0m \u001b[1m0s\u001b[0m 71ms/step\n",
      "\n",
      "    Yorum: 2 ci siparişim ve önceki aldığım ürün daha kaliteliydi.Şimdi bu ürün resmn sulandırılmış.\n",
      "    Durum: Olumsuz\n",
      "    Olasılıklar: Olumsuz: 100.00%  Nötr: 0.00%  Olumlu: 0.00%\n",
      "    \n"
     ]
    },
    {
     "name": "stdin",
     "output_type": "stream",
     "text": [
      "Lütfen bir yorum girin (çıkmak için 'exit' yazın):  Mükemmelsin bir ürünsün bebeğim \n"
     ]
    },
    {
     "name": "stdout",
     "output_type": "stream",
     "text": [
      "\u001b[1m1/1\u001b[0m \u001b[32m━━━━━━━━━━━━━━━━━━━━\u001b[0m\u001b[37m\u001b[0m \u001b[1m0s\u001b[0m 42ms/step\n",
      "\n",
      "    Yorum: Mükemmelsin bir ürünsün bebeğim \n",
      "    Durum: Olumsuz\n",
      "    Olasılıklar: Olumsuz: 60.46%  Nötr: 25.03%  Olumlu: 14.51%\n",
      "    \n"
     ]
    },
    {
     "name": "stdin",
     "output_type": "stream",
     "text": [
      "Lütfen bir yorum girin (çıkmak için 'exit' yazın):  Özellikle hamilelikte oluşan lekelerim de gozle görülür şekilde azalmalar oldu.Hem de 5 günlük gibi kısa bı sürede.Ben çok memnun kaldım.Almak isteyenler l,aklında soru işareti olanlar gönül rahatlığıyla alabilirler.Hemen emiliyor ve cildi yumuşacık yapıyor.\n"
     ]
    },
    {
     "name": "stdout",
     "output_type": "stream",
     "text": [
      "\u001b[1m1/1\u001b[0m \u001b[32m━━━━━━━━━━━━━━━━━━━━\u001b[0m\u001b[37m\u001b[0m \u001b[1m0s\u001b[0m 37ms/step\n",
      "\n",
      "    Yorum: Özellikle hamilelikte oluşan lekelerim de gozle görülür şekilde azalmalar oldu.Hem de 5 günlük gibi kısa bı sürede.Ben çok memnun kaldım.Almak isteyenler l,aklında soru işareti olanlar gönül rahatlığıyla alabilirler.Hemen emiliyor ve cildi yumuşacık yapıyor.\n",
      "    Durum: Olumlu\n",
      "    Olasılıklar: Olumsuz: 0.00%  Nötr: 0.00%  Olumlu: 100.00%\n",
      "    \n"
     ]
    },
    {
     "name": "stdin",
     "output_type": "stream",
     "text": [
      "Lütfen bir yorum girin (çıkmak için 'exit' yazın):  Ürünü kullanmaya başladım umarım övüldüğü kadar vardır benim yüzümde herkesin beğendiği ama benim istemediğim çillerim var rengini açarsa süper olur sonuçu istediğim gibi olursa yorumu tekrar güncelleyeceğim \n"
     ]
    },
    {
     "name": "stdout",
     "output_type": "stream",
     "text": [
      "\u001b[1m1/1\u001b[0m \u001b[32m━━━━━━━━━━━━━━━━━━━━\u001b[0m\u001b[37m\u001b[0m \u001b[1m0s\u001b[0m 37ms/step\n",
      "\n",
      "    Yorum: Ürünü kullanmaya başladım umarım övüldüğü kadar vardır benim yüzümde herkesin beğendiği ama benim istemediğim çillerim var rengini açarsa süper olur sonuçu istediğim gibi olursa yorumu tekrar güncelleyeceğim \n",
      "    Durum: Olumsuz\n",
      "    Olasılıklar: Olumsuz: 99.80%  Nötr: 0.14%  Olumlu: 0.06%\n",
      "    \n"
     ]
    },
    {
     "name": "stdin",
     "output_type": "stream",
     "text": [
      "Lütfen bir yorum girin (çıkmak için 'exit' yazın):  yorumlara bakarak aldım gerçekten çok güzel memnunum cildim parlıyor\n"
     ]
    },
    {
     "name": "stdout",
     "output_type": "stream",
     "text": [
      "\u001b[1m1/1\u001b[0m \u001b[32m━━━━━━━━━━━━━━━━━━━━\u001b[0m\u001b[37m\u001b[0m \u001b[1m0s\u001b[0m 39ms/step\n",
      "\n",
      "    Yorum: yorumlara bakarak aldım gerçekten çok güzel memnunum cildim parlıyor\n",
      "    Durum: Olumlu\n",
      "    Olasılıklar: Olumsuz: 0.03%  Nötr: 0.05%  Olumlu: 99.92%\n",
      "    \n"
     ]
    },
    {
     "name": "stdin",
     "output_type": "stream",
     "text": [
      "Lütfen bir yorum girin (çıkmak için 'exit' yazın):  İkinci kutuyu aldım yaklaşık iki aydır kullanıyorum ve çok memnunum. Gözle görülür koyu lekelerimin tonunu açtı ve küçülttü. Çok mutluyum çok teşekkür ederim. Bir kaç ay daha kullanınca eminim cildim pürüssüz olucak\n"
     ]
    },
    {
     "name": "stdout",
     "output_type": "stream",
     "text": [
      "\u001b[1m1/1\u001b[0m \u001b[32m━━━━━━━━━━━━━━━━━━━━\u001b[0m\u001b[37m\u001b[0m \u001b[1m0s\u001b[0m 40ms/step\n",
      "\n",
      "    Yorum: İkinci kutuyu aldım yaklaşık iki aydır kullanıyorum ve çok memnunum. Gözle görülür koyu lekelerimin tonunu açtı ve küçülttü. Çok mutluyum çok teşekkür ederim. Bir kaç ay daha kullanınca eminim cildim pürüssüz olucak\n",
      "    Durum: Olumlu\n",
      "    Olasılıklar: Olumsuz: 0.00%  Nötr: 0.00%  Olumlu: 100.00%\n",
      "    \n"
     ]
    },
    {
     "name": "stdin",
     "output_type": "stream",
     "text": [
      "Lütfen bir yorum girin (çıkmak için 'exit' yazın):  çok beğendim çok güzel tam istediğim gibi yorumlar tavsiye üzerinden faylasi tsk ederim\n"
     ]
    },
    {
     "name": "stdout",
     "output_type": "stream",
     "text": [
      "\u001b[1m1/1\u001b[0m \u001b[32m━━━━━━━━━━━━━━━━━━━━\u001b[0m\u001b[37m\u001b[0m \u001b[1m0s\u001b[0m 39ms/step\n",
      "\n",
      "    Yorum: çok beğendim çok güzel tam istediğim gibi yorumlar tavsiye üzerinden faylasi tsk ederim\n",
      "    Durum: Olumlu\n",
      "    Olasılıklar: Olumsuz: 0.00%  Nötr: 0.00%  Olumlu: 100.00%\n",
      "    \n"
     ]
    },
    {
     "name": "stdin",
     "output_type": "stream",
     "text": [
      "Lütfen bir yorum girin (çıkmak için 'exit' yazın):  3 tane aldım hiç faydası olmadı\n"
     ]
    },
    {
     "name": "stdout",
     "output_type": "stream",
     "text": [
      "\u001b[1m1/1\u001b[0m \u001b[32m━━━━━━━━━━━━━━━━━━━━\u001b[0m\u001b[37m\u001b[0m \u001b[1m0s\u001b[0m 36ms/step\n",
      "\n",
      "    Yorum: 3 tane aldım hiç faydası olmadı\n",
      "    Durum: Olumsuz\n",
      "    Olasılıklar: Olumsuz: 92.27%  Nötr: 7.07%  Olumlu: 0.67%\n",
      "    \n"
     ]
    },
    {
     "name": "stdin",
     "output_type": "stream",
     "text": [
      "Lütfen bir yorum girin (çıkmak için 'exit' yazın):  yüzümde acayip derecede sivilce yaptı çok çok kötü bi ürün bence\n"
     ]
    },
    {
     "name": "stdout",
     "output_type": "stream",
     "text": [
      "\u001b[1m1/1\u001b[0m \u001b[32m━━━━━━━━━━━━━━━━━━━━\u001b[0m\u001b[37m\u001b[0m \u001b[1m0s\u001b[0m 36ms/step\n",
      "\n",
      "    Yorum: yüzümde acayip derecede sivilce yaptı çok çok kötü bi ürün bence\n",
      "    Durum: Olumsuz\n",
      "    Olasılıklar: Olumsuz: 100.00%  Nötr: 0.00%  Olumlu: 0.00%\n",
      "    \n"
     ]
    },
    {
     "name": "stdin",
     "output_type": "stream",
     "text": [
      "Lütfen bir yorum girin (çıkmak için 'exit' yazın):  Abartıldığı kadar iyi değil.\n"
     ]
    },
    {
     "name": "stdout",
     "output_type": "stream",
     "text": [
      "\u001b[1m1/1\u001b[0m \u001b[32m━━━━━━━━━━━━━━━━━━━━\u001b[0m\u001b[37m\u001b[0m \u001b[1m0s\u001b[0m 39ms/step\n",
      "\n",
      "    Yorum: Abartıldığı kadar iyi değil.\n",
      "    Durum: Olumsuz\n",
      "    Olasılıklar: Olumsuz: 99.24%  Nötr: 0.58%  Olumlu: 0.18%\n",
      "    \n"
     ]
    },
    {
     "name": "stdin",
     "output_type": "stream",
     "text": [
      "Lütfen bir yorum girin (çıkmak için 'exit' yazın):  deneyip görecez nasıl olduğunu\n"
     ]
    },
    {
     "name": "stdout",
     "output_type": "stream",
     "text": [
      "\u001b[1m1/1\u001b[0m \u001b[32m━━━━━━━━━━━━━━━━━━━━\u001b[0m\u001b[37m\u001b[0m \u001b[1m0s\u001b[0m 36ms/step\n",
      "\n",
      "    Yorum: deneyip görecez nasıl olduğunu\n",
      "    Durum: Olumsuz\n",
      "    Olasılıklar: Olumsuz: 77.14%  Nötr: 0.33%  Olumlu: 22.53%\n",
      "    \n"
     ]
    },
    {
     "name": "stdin",
     "output_type": "stream",
     "text": [
      "Lütfen bir yorum girin (çıkmak için 'exit' yazın):   uzun süreli kullanimda belki biraz etksii olur.\n"
     ]
    },
    {
     "name": "stdout",
     "output_type": "stream",
     "text": [
      "\u001b[1m1/1\u001b[0m \u001b[32m━━━━━━━━━━━━━━━━━━━━\u001b[0m\u001b[37m\u001b[0m \u001b[1m0s\u001b[0m 35ms/step\n",
      "\n",
      "    Yorum:  uzun süreli kullanimda belki biraz etksii olur.\n",
      "    Durum: Olumsuz\n",
      "    Olasılıklar: Olumsuz: 99.80%  Nötr: 0.17%  Olumlu: 0.03%\n",
      "    \n"
     ]
    },
    {
     "name": "stdin",
     "output_type": "stream",
     "text": [
      "Lütfen bir yorum girin (çıkmak için 'exit' yazın):  yeni aldım etkisini daha görmedim ama yumuşacık hissettiriyor\n"
     ]
    },
    {
     "name": "stdout",
     "output_type": "stream",
     "text": [
      "\u001b[1m1/1\u001b[0m \u001b[32m━━━━━━━━━━━━━━━━━━━━\u001b[0m\u001b[37m\u001b[0m \u001b[1m0s\u001b[0m 34ms/step\n",
      "\n",
      "    Yorum: yeni aldım etkisini daha görmedim ama yumuşacık hissettiriyor\n",
      "    Durum: Olumsuz\n",
      "    Olasılıklar: Olumsuz: 99.35%  Nötr: 0.41%  Olumlu: 0.23%\n",
      "    \n"
     ]
    },
    {
     "name": "stdin",
     "output_type": "stream",
     "text": [
      "Lütfen bir yorum girin (çıkmak için 'exit' yazın):  çok çok iyi diyemem ama etkisi var\n"
     ]
    },
    {
     "name": "stdout",
     "output_type": "stream",
     "text": [
      "\u001b[1m1/1\u001b[0m \u001b[32m━━━━━━━━━━━━━━━━━━━━\u001b[0m\u001b[37m\u001b[0m \u001b[1m0s\u001b[0m 35ms/step\n",
      "\n",
      "    Yorum: çok çok iyi diyemem ama etkisi var\n",
      "    Durum: Nötr\n",
      "    Olasılıklar: Olumsuz: 4.21%  Nötr: 88.13%  Olumlu: 7.66%\n",
      "    \n"
     ]
    },
    {
     "name": "stdin",
     "output_type": "stream",
     "text": [
      "Lütfen bir yorum girin (çıkmak için 'exit' yazın):  Abartılmış bir ürün ben bi etkisini göremedim\n"
     ]
    },
    {
     "name": "stdout",
     "output_type": "stream",
     "text": [
      "\u001b[1m1/1\u001b[0m \u001b[32m━━━━━━━━━━━━━━━━━━━━\u001b[0m\u001b[37m\u001b[0m \u001b[1m0s\u001b[0m 35ms/step\n",
      "\n",
      "    Yorum: Abartılmış bir ürün ben bi etkisini göremedim\n",
      "    Durum: Olumlu\n",
      "    Olasılıklar: Olumsuz: 1.51%  Nötr: 1.27%  Olumlu: 97.22%\n",
      "    \n"
     ]
    },
    {
     "name": "stdin",
     "output_type": "stream",
     "text": [
      "Lütfen bir yorum girin (çıkmak için 'exit' yazın):  henüz etkisini göremedi bı süre kullandıktan sonra bakicam\n"
     ]
    },
    {
     "name": "stdout",
     "output_type": "stream",
     "text": [
      "\u001b[1m1/1\u001b[0m \u001b[32m━━━━━━━━━━━━━━━━━━━━\u001b[0m\u001b[37m\u001b[0m \u001b[1m0s\u001b[0m 35ms/step\n",
      "\n",
      "    Yorum: henüz etkisini göremedi bı süre kullandıktan sonra bakicam\n",
      "    Durum: Nötr\n",
      "    Olasılıklar: Olumsuz: 6.62%  Nötr: 83.38%  Olumlu: 10.01%\n",
      "    \n"
     ]
    },
    {
     "name": "stdin",
     "output_type": "stream",
     "text": [
      "Lütfen bir yorum girin (çıkmak için 'exit' yazın):  eğer cildiniz hassas ise sakın kullanmayın cildim beyaz ve oldukça hassas sürer sürmez yanmaya başladı hızlıca silip yıkamasam yanıklar oluşacaktı yada tahriş olacaktı normal bir cildiniz varsa güzel olabilir maalesef kullanamıyorum üçü de yaramadı bana\n"
     ]
    },
    {
     "name": "stdout",
     "output_type": "stream",
     "text": [
      "\u001b[1m1/1\u001b[0m \u001b[32m━━━━━━━━━━━━━━━━━━━━\u001b[0m\u001b[37m\u001b[0m \u001b[1m0s\u001b[0m 37ms/step\n",
      "\n",
      "    Yorum: eğer cildiniz hassas ise sakın kullanmayın cildim beyaz ve oldukça hassas sürer sürmez yanmaya başladı hızlıca silip yıkamasam yanıklar oluşacaktı yada tahriş olacaktı normal bir cildiniz varsa güzel olabilir maalesef kullanamıyorum üçü de yaramadı bana\n",
      "    Durum: Olumsuz\n",
      "    Olasılıklar: Olumsuz: 100.00%  Nötr: 0.00%  Olumlu: 0.00%\n",
      "    \n"
     ]
    },
    {
     "name": "stdin",
     "output_type": "stream",
     "text": [
      "Lütfen bir yorum girin (çıkmak için 'exit' yazın):  henüz fazla kullanım sağlamadım ancak şu ana kadar bir faydası da olmadı\n"
     ]
    },
    {
     "name": "stdout",
     "output_type": "stream",
     "text": [
      "\u001b[1m1/1\u001b[0m \u001b[32m━━━━━━━━━━━━━━━━━━━━\u001b[0m\u001b[37m\u001b[0m \u001b[1m0s\u001b[0m 34ms/step\n",
      "\n",
      "    Yorum: henüz fazla kullanım sağlamadım ancak şu ana kadar bir faydası da olmadı\n",
      "    Durum: Olumsuz\n",
      "    Olasılıklar: Olumsuz: 99.11%  Nötr: 0.74%  Olumlu: 0.15%\n",
      "    \n"
     ]
    },
    {
     "name": "stdin",
     "output_type": "stream",
     "text": [
      "Lütfen bir yorum girin (çıkmak için 'exit' yazın):  Fiyat performans olarak mükemmel bir ürün hem şık hem kullanışlı ben bayağı beğendim\n"
     ]
    },
    {
     "name": "stdout",
     "output_type": "stream",
     "text": [
      "\u001b[1m1/1\u001b[0m \u001b[32m━━━━━━━━━━━━━━━━━━━━\u001b[0m\u001b[37m\u001b[0m \u001b[1m0s\u001b[0m 35ms/step\n",
      "\n",
      "    Yorum: Fiyat performans olarak mükemmel bir ürün hem şık hem kullanışlı ben bayağı beğendim\n",
      "    Durum: Olumlu\n",
      "    Olasılıklar: Olumsuz: 0.00%  Nötr: 0.00%  Olumlu: 100.00%\n",
      "    \n"
     ]
    },
    {
     "name": "stdin",
     "output_type": "stream",
     "text": [
      "Lütfen bir yorum girin (çıkmak için 'exit' yazın):  krem ve siyah rengini almıştım çok güzeller gönül rahatlığıyla alın aldırın:))\n"
     ]
    },
    {
     "name": "stdout",
     "output_type": "stream",
     "text": [
      "\u001b[1m1/1\u001b[0m \u001b[32m━━━━━━━━━━━━━━━━━━━━\u001b[0m\u001b[37m\u001b[0m \u001b[1m0s\u001b[0m 35ms/step\n",
      "\n",
      "    Yorum: krem ve siyah rengini almıştım çok güzeller gönül rahatlığıyla alın aldırın:))\n",
      "    Durum: Olumlu\n",
      "    Olasılıklar: Olumsuz: 0.00%  Nötr: 0.00%  Olumlu: 100.00%\n",
      "    \n"
     ]
    },
    {
     "name": "stdin",
     "output_type": "stream",
     "text": [
      "Lütfen bir yorum girin (çıkmak için 'exit' yazın):  göründüğünden küçük geldi\n"
     ]
    },
    {
     "name": "stdout",
     "output_type": "stream",
     "text": [
      "\u001b[1m1/1\u001b[0m \u001b[32m━━━━━━━━━━━━━━━━━━━━\u001b[0m\u001b[37m\u001b[0m \u001b[1m0s\u001b[0m 35ms/step\n",
      "\n",
      "    Yorum: göründüğünden küçük geldi\n",
      "    Durum: Olumsuz\n",
      "    Olasılıklar: Olumsuz: 99.99%  Nötr: 0.01%  Olumlu: 0.00%\n",
      "    \n"
     ]
    },
    {
     "name": "stdin",
     "output_type": "stream",
     "text": [
      "Lütfen bir yorum girin (çıkmak için 'exit' yazın):  küçükmüş ya okul için aldım da buna defter sığmaz ayrıca ince bayaa\n"
     ]
    },
    {
     "name": "stdout",
     "output_type": "stream",
     "text": [
      "\u001b[1m1/1\u001b[0m \u001b[32m━━━━━━━━━━━━━━━━━━━━\u001b[0m\u001b[37m\u001b[0m \u001b[1m0s\u001b[0m 35ms/step\n",
      "\n",
      "    Yorum: küçükmüş ya okul için aldım da buna defter sığmaz ayrıca ince bayaa\n",
      "    Durum: Olumsuz\n",
      "    Olasılıklar: Olumsuz: 99.50%  Nötr: 0.47%  Olumlu: 0.03%\n",
      "    \n"
     ]
    },
    {
     "name": "stdin",
     "output_type": "stream",
     "text": [
      "Lütfen bir yorum girin (çıkmak için 'exit' yazın):  yorumlara bakarak aldım ama içler acısı olumlu yorum yapanlar ise neye göre yaptılar bilemiyorum kağıt gibi geldiği gibi iade ettim l\n"
     ]
    },
    {
     "name": "stdout",
     "output_type": "stream",
     "text": [
      "\u001b[1m1/1\u001b[0m \u001b[32m━━━━━━━━━━━━━━━━━━━━\u001b[0m\u001b[37m\u001b[0m \u001b[1m0s\u001b[0m 37ms/step\n",
      "\n",
      "    Yorum: yorumlara bakarak aldım ama içler acısı olumlu yorum yapanlar ise neye göre yaptılar bilemiyorum kağıt gibi geldiği gibi iade ettim l\n",
      "    Durum: Olumsuz\n",
      "    Olasılıklar: Olumsuz: 99.89%  Nötr: 0.08%  Olumlu: 0.03%\n",
      "    \n"
     ]
    },
    {
     "name": "stdin",
     "output_type": "stream",
     "text": [
      "Lütfen bir yorum girin (çıkmak için 'exit' yazın):  ürün güzel. duruşunu sevdim. bir tik kalitesiz. fiyat/performans\n"
     ]
    },
    {
     "name": "stdout",
     "output_type": "stream",
     "text": [
      "\u001b[1m1/1\u001b[0m \u001b[32m━━━━━━━━━━━━━━━━━━━━\u001b[0m\u001b[37m\u001b[0m \u001b[1m0s\u001b[0m 37ms/step\n",
      "\n",
      "    Yorum: ürün güzel. duruşunu sevdim. bir tik kalitesiz. fiyat/performans\n",
      "    Durum: Nötr\n",
      "    Olasılıklar: Olumsuz: 20.46%  Nötr: 39.90%  Olumlu: 39.64%\n",
      "    \n"
     ]
    },
    {
     "name": "stdin",
     "output_type": "stream",
     "text": [
      "Lütfen bir yorum girin (çıkmak için 'exit' yazın):  guzel biraz istedigimden küçük geldi\n"
     ]
    },
    {
     "name": "stdout",
     "output_type": "stream",
     "text": [
      "\u001b[1m1/1\u001b[0m \u001b[32m━━━━━━━━━━━━━━━━━━━━\u001b[0m\u001b[37m\u001b[0m \u001b[1m0s\u001b[0m 35ms/step\n",
      "\n",
      "    Yorum: guzel biraz istedigimden küçük geldi\n",
      "    Durum: Nötr\n",
      "    Olasılıklar: Olumsuz: 18.07%  Nötr: 59.12%  Olumlu: 22.81%\n",
      "    \n"
     ]
    },
    {
     "name": "stdin",
     "output_type": "stream",
     "text": [
      "Lütfen bir yorum girin (çıkmak için 'exit' yazın):  Çanta güzeldi ama içine makyaj çantasını babanne çantası gibi bir şey koymasaydınız daha iyiydi tabiki çok beğenmeme rağmen iade ettim\n"
     ]
    },
    {
     "name": "stdout",
     "output_type": "stream",
     "text": [
      "\u001b[1m1/1\u001b[0m \u001b[32m━━━━━━━━━━━━━━━━━━━━\u001b[0m\u001b[37m\u001b[0m \u001b[1m0s\u001b[0m 72ms/step\n",
      "\n",
      "    Yorum: Çanta güzeldi ama içine makyaj çantasını babanne çantası gibi bir şey koymasaydınız daha iyiydi tabiki çok beğenmeme rağmen iade ettim\n",
      "    Durum: Olumsuz\n",
      "    Olasılıklar: Olumsuz: 98.27%  Nötr: 1.60%  Olumlu: 0.14%\n",
      "    \n"
     ]
    },
    {
     "name": "stdin",
     "output_type": "stream",
     "text": [
      "Lütfen bir yorum girin (çıkmak için 'exit' yazın):  exit\n"
     ]
    },
    {
     "name": "stdout",
     "output_type": "stream",
     "text": [
      "Çıkılıyor...\n"
     ]
    }
   ],
   "source": [
    "# Kullanıcıdan bir yorum alıp tahmin yapalım\n",
    "def yorum_tahmin(yeni_yorum):\n",
    "    temiz_yeni = temizle(yeni_yorum)\n",
    "    vektör_yeni = vectorizer.transform([temiz_yeni]).toarray()\n",
    "    tahmin = model.predict(vektör_yeni)\n",
    "    sinif = np.argmax(tahmin)\n",
    "    \n",
    "    # Sayısal değeri metne dönüştür\n",
    "    if sinif == 0:\n",
    "        durum = \"Olumsuz\"\n",
    "    elif sinif == 1:\n",
    "        durum = \"Olumlu\"\n",
    "    else:\n",
    "        durum = \"Nötr\"\n",
    "\n",
    "    olasiliklar = tahmin[0]\n",
    "    \n",
    "    # Çıktıyı istenilen formatta döndürelim\n",
    "    return f\"\"\"\n",
    "    Yorum: {yeni_yorum}\n",
    "    Durum: {durum}\n",
    "    Olasılıklar: Olumsuz: {olasiliklar[0]*100:.2f}%  Nötr: {olasiliklar[2]*100:.2f}%  Olumlu: {olasiliklar[1]*100:.2f}%\n",
    "    \"\"\"\n",
    "\n",
    "# Kullanıcıdan yorum alalım ve tahmin yapalım\n",
    "while True:\n",
    "    yorum = input(\"Lütfen bir yorum girin (çıkmak için 'exit' yazın): \")\n",
    "    if yorum.lower() == 'exit':\n",
    "        print(\"Çıkılıyor...\")\n",
    "        break\n",
    "    \n",
    "    print(yorum_tahmin(yorum))  # Kullanıcının girdiği yorumu tahmin et\n"
   ]
  },
  {
   "cell_type": "code",
   "execution_count": 37,
   "id": "fb7c9522-4eac-4860-91f8-a0d39bb017ae",
   "metadata": {},
   "outputs": [
    {
     "name": "stdout",
     "output_type": "stream",
     "text": [
      "\u001b[1m1/1\u001b[0m \u001b[32m━━━━━━━━━━━━━━━━━━━━\u001b[0m\u001b[37m\u001b[0m \u001b[1m0s\u001b[0m 124ms/step\n",
      "Tahmin 1: \n",
      "    Yorum: Gerçekten çok güzel bir ürün, bayıldım! Tavsiye ederim.\n",
      "    Durum: Olumlu\n",
      "    Olasılıklar: Olumsuz: 0.00%  Nötr: 0.00%  Olumlu: 100.00%\n",
      "    \n",
      "\u001b[1m1/1\u001b[0m \u001b[32m━━━━━━━━━━━━━━━━━━━━\u001b[0m\u001b[37m\u001b[0m \u001b[1m0s\u001b[0m 51ms/step\n",
      "Tahmin 2: \n",
      "    Yorum: Fiyatına göre normal bir ürün, ne çok iyi ne çok kötü.\n",
      "    Durum: Nötr\n",
      "    Olasılıklar: Olumsuz: 1.28%  Nötr: 98.66%  Olumlu: 0.05%\n",
      "    \n",
      "\u001b[1m1/1\u001b[0m \u001b[32m━━━━━━━━━━━━━━━━━━━━\u001b[0m\u001b[37m\u001b[0m \u001b[1m0s\u001b[0m 54ms/step\n",
      "Tahmin 3: \n",
      "    Yorum: Paketleme berbattı, ürün ezilmiş bir halde geldi. Hiç memnun kalmadım.\n",
      "    Durum: Olumsuz\n",
      "    Olasılıklar: Olumsuz: 100.00%  Nötr: 0.00%  Olumlu: 0.00%\n",
      "    \n",
      "\u001b[1m1/1\u001b[0m \u001b[32m━━━━━━━━━━━━━━━━━━━━\u001b[0m\u001b[37m\u001b[0m \u001b[1m0s\u001b[0m 68ms/step\n",
      "Tahmin 4: \n",
      "    Yorum: Paketleme fena değil, ama daha iyi olabilirdi.\n",
      "    Durum: Nötr\n",
      "    Olasılıklar: Olumsuz: 0.93%  Nötr: 98.95%  Olumlu: 0.13%\n",
      "    \n",
      "\u001b[1m1/1\u001b[0m \u001b[32m━━━━━━━━━━━━━━━━━━━━\u001b[0m\u001b[37m\u001b[0m \u001b[1m0s\u001b[0m 66ms/step\n",
      "Tahmin 5: \n",
      "    Yorum: Beklediğimden çok daha kaliteli çıktı, kesinlikle tavsiye ederim!\n",
      "    Durum: Olumlu\n",
      "    Olasılıklar: Olumsuz: 0.00%  Nötr: 0.00%  Olumlu: 100.00%\n",
      "    \n",
      "\u001b[1m1/1\u001b[0m \u001b[32m━━━━━━━━━━━━━━━━━━━━\u001b[0m\u001b[37m\u001b[0m \u001b[1m0s\u001b[0m 60ms/step\n",
      "Tahmin 6: \n",
      "    Yorum: Malzeme kalitesi çok kötü, paranıza yazık.\n",
      "    Durum: Olumsuz\n",
      "    Olasılıklar: Olumsuz: 100.00%  Nötr: 0.00%  Olumlu: 0.00%\n",
      "    \n",
      "\u001b[1m1/1\u001b[0m \u001b[32m━━━━━━━━━━━━━━━━━━━━\u001b[0m\u001b[37m\u001b[0m \u001b[1m0s\u001b[0m 58ms/step\n",
      "Tahmin 7: \n",
      "    Yorum: Kargo zamanında geldi, ürün ortalama.\n",
      "    Durum: Nötr\n",
      "    Olasılıklar: Olumsuz: 0.04%  Nötr: 94.59%  Olumlu: 5.37%\n",
      "    \n",
      "\u001b[1m1/1\u001b[0m \u001b[32m━━━━━━━━━━━━━━━━━━━━\u001b[0m\u001b[37m\u001b[0m \u001b[1m0s\u001b[0m 64ms/step\n",
      "Tahmin 8: \n",
      "    Yorum: Harika bir alışveriş deneyimi oldu, tekrar alırım.\n",
      "    Durum: Olumlu\n",
      "    Olasılıklar: Olumsuz: 0.00%  Nötr: 0.00%  Olumlu: 100.00%\n",
      "    \n",
      "\u001b[1m1/1\u001b[0m \u001b[32m━━━━━━━━━━━━━━━━━━━━\u001b[0m\u001b[37m\u001b[0m \u001b[1m0s\u001b[0m 59ms/step\n",
      "Tahmin 9: \n",
      "    Yorum: Renk tamamen farklı geldi, fotoğraftakiyle alakası yok.\n",
      "    Durum: Olumsuz\n",
      "    Olasılıklar: Olumsuz: 100.00%  Nötr: 0.00%  Olumlu: 0.00%\n",
      "    \n",
      "\u001b[1m1/1\u001b[0m \u001b[32m━━━━━━━━━━━━━━━━━━━━\u001b[0m\u001b[37m\u001b[0m \u001b[1m0s\u001b[0m 82ms/step\n",
      "Tahmin 10: \n",
      "    Yorum: Ürün idare eder, çok bir şey beklememek lazım.\n",
      "    Durum: Nötr\n",
      "    Olasılıklar: Olumsuz: 0.00%  Nötr: 100.00%  Olumlu: 0.00%\n",
      "    \n"
     ]
    }
   ],
   "source": [
    "# Kullanıcıdan bir yorum alıp tahmin yapalım\n",
    "def yorum_tahmin(yeni_yorum):\n",
    "    temiz_yeni = temizle(yeni_yorum)\n",
    "    vektör_yeni = vectorizer.transform([temiz_yeni]).toarray()\n",
    "    tahmin = model.predict(vektör_yeni)\n",
    "    sinif = np.argmax(tahmin)\n",
    "    \n",
    "    # Sayısal değeri metne dönüştür\n",
    "    if sinif == 0:\n",
    "        durum = \"Olumsuz\"\n",
    "    elif sinif == 1:\n",
    "        durum = \"Olumlu\"\n",
    "    else:\n",
    "        durum = \"Nötr\"\n",
    "\n",
    "    olasiliklar = tahmin[0]\n",
    "    \n",
    "    # Çıktıyı istenilen formatta döndürelim\n",
    "    return f\"\"\"\n",
    "    Yorum: {yeni_yorum}\n",
    "    Durum: {durum}\n",
    "    Olasılıklar: Olumsuz: {olasiliklar[0]*100:.2f}%  Nötr: {olasiliklar[2]*100:.2f}%  Olumlu: {olasiliklar[1]*100:.2f}%\n",
    "    \"\"\"\n",
    "\n",
    "# Örnek yorumlar\n",
    "yorum1 = \"Gerçekten çok güzel bir ürün, bayıldım! Tavsiye ederim.\"  # Pozitif\n",
    "yorum2 = \"Fiyatına göre normal bir ürün, ne çok iyi ne çok kötü.\"  # Nötr\n",
    "yorum3 = \"Paketleme berbattı, ürün ezilmiş bir halde geldi. Hiç memnun kalmadım.\"  # Negatif\n",
    "yorum4 = \"Paketleme fena değil, ama daha iyi olabilirdi.\"  # Nötr\n",
    "yorum5 = \"Beklediğimden çok daha kaliteli çıktı, kesinlikle tavsiye ederim!\"  # Pozitif\n",
    "yorum6 = \"Malzeme kalitesi çok kötü, paranıza yazık.\"  # Negatif\n",
    "yorum7 = \"Kargo zamanında geldi, ürün ortalama.\"  # Nötr\n",
    "yorum8 = \"Harika bir alışveriş deneyimi oldu, tekrar alırım.\"  # Pozitif\n",
    "yorum9 = \"Renk tamamen farklı geldi, fotoğraftakiyle alakası yok.\"  # Negatif\n",
    "yorum10 = \"Ürün idare eder, çok bir şey beklememek lazım.\"  # Nötr\n",
    "\n",
    "# Yorum tahminleri\n",
    "print(\"Tahmin 1:\", yorum_tahmin(yorum1))  # Pozitif\n",
    "print(\"Tahmin 2:\", yorum_tahmin(yorum2))  # Nötr\n",
    "print(\"Tahmin 3:\", yorum_tahmin(yorum3))  # Negatif\n",
    "print(\"Tahmin 4:\", yorum_tahmin(yorum4))  # Nötr\n",
    "print(\"Tahmin 5:\", yorum_tahmin(yorum5))  # Pozitif\n",
    "print(\"Tahmin 6:\", yorum_tahmin(yorum6))  # Negatif\n",
    "print(\"Tahmin 7:\", yorum_tahmin(yorum7))  # Nötr\n",
    "print(\"Tahmin 8:\", yorum_tahmin(yorum8))  # Pozitif\n",
    "print(\"Tahmin 9:\", yorum_tahmin(yorum9))  # Negatif\n",
    "print(\"Tahmin 10:\", yorum_tahmin(yorum10))  # Nötr"
   ]
  },
  {
   "cell_type": "markdown",
   "id": "965e1d7e-5e73-4122-a398-e2fd7eea2a19",
   "metadata": {},
   "source": [
    "# GRAFİKLER"
   ]
  },
  {
   "cell_type": "code",
   "execution_count": 14,
   "id": "734d45e0-3b9b-4f93-9973-03f7ec7dfcf1",
   "metadata": {},
   "outputs": [
    {
     "name": "stdout",
     "output_type": "stream",
     "text": [
      "\u001b[1m119/119\u001b[0m \u001b[32m━━━━━━━━━━━━━━━━━━━━\u001b[0m\u001b[37m\u001b[0m \u001b[1m0s\u001b[0m 2ms/step\n"
     ]
    }
   ],
   "source": [
    "y_pred = model.predict(X_test_vec)\n",
    "y_pred_classes = y_pred.argmax(axis=1)  # Tahmin edilen sınıflar\n",
    "y_true_classes = y_test.argmax(axis=1)  # Gerçek sınıflar\n"
   ]
  },
  {
   "cell_type": "code",
   "execution_count": 16,
   "id": "b4fcf447-4f3f-4a16-97a5-3cc3d3aa3227",
   "metadata": {},
   "outputs": [],
   "source": [
    "cm = confusion_matrix(y_true_classes, y_pred_classes)\n"
   ]
  },
  {
   "cell_type": "code",
   "execution_count": 18,
   "id": "58ee2e12-103a-4b5e-a1da-b85bad062311",
   "metadata": {},
   "outputs": [
    {
     "data": {
      "image/png": "[encoded data removed]",
      "text/plain": [
       "<Figure size 800x600 with 2 Axes>"
      ]
     },
     "metadata": {},
     "output_type": "display_data"
    }
   ],
   "source": [
    "plt.figure(figsize=(8, 6))\n",
    "sns.heatmap(cm, annot=True, fmt='d', cmap='Blues', xticklabels=[\"Negatif\", \"Nötr\", \"Pozitif\"], yticklabels=[\"Negatif\", \"Nötr\", \"Pozitif\"])\n",
    "plt.xlabel(\"Tahmin Edilen Sınıf\")\n",
    "plt.ylabel(\"Gerçek Sınıf\")\n",
    "plt.title(\"Confusion Matrix\")\n",
    "plt.show()\n"
   ]
  },
  {
   "cell_type": "code",
   "execution_count": 20,
   "id": "b91ce7cf-a348-4290-b202-47b84b6b63ee",
   "metadata": {},
   "outputs": [
    {
     "name": "stdout",
     "output_type": "stream",
     "text": [
      "              precision    recall  f1-score   support\n",
      "\n",
      "     Negatif       0.94      0.91      0.93      1386\n",
      "        Nötr       0.90      0.93      0.92      1340\n",
      "     Pozitif       0.89      0.88      0.88      1068\n",
      "\n",
      "    accuracy                           0.91      3794\n",
      "   macro avg       0.91      0.91      0.91      3794\n",
      "weighted avg       0.91      0.91      0.91      3794\n",
      "\n"
     ]
    }
   ],
   "source": [
    "print(classification_report(y_true_classes, y_pred_classes, target_names=[\"Negatif\", \"Nötr\", \"Pozitif\"]))\n"
   ]
  },
  {
   "cell_type": "code",
   "execution_count": 19,
   "id": "c9a62bac-ea18-4828-b167-6b5e48e49ada",
   "metadata": {},
   "outputs": [
    {
     "data": {
      "image/png": "[encoded data removed]",
      "text/plain": [
       "<Figure size 640x480 with 1 Axes>"
      ]
     },
     "metadata": {},
     "output_type": "display_data"
    }
   ],
   "source": [
    "#3.YORUMLARIN DAĞILIMI GRAFİĞİ\n",
    "sns.countplot(x='Durum', data=data)\n",
    "plt.title('Yorumların Sınıf Dağılımı')\n",
    "plt.xlabel('Sınıf')\n",
    "plt.ylabel('Frekans')\n",
    "plt.show()"
   ]
  },
  {
   "cell_type": "code",
   "execution_count": 47,
   "id": "2cfc96e4-45a1-483c-9312-e500d33a21fb",
   "metadata": {},
   "outputs": [
    {
     "data": {
      "image/png": "[encoded data removed]",
      "text/plain": [
       "<Figure size 640x480 with 1 Axes>"
      ]
     },
     "metadata": {},
     "output_type": "display_data"
    }
   ],
   "source": [
    "#2. Modelin Eğitim ve Doğrulama Kayıpları (Loss)\n",
    "plt.plot(history.history['loss'], label='Eğitim Kayıpları')\n",
    "plt.plot(history.history['val_loss'], label='Doğrulama Kayıpları')\n",
    "plt.xlabel('Epochs')\n",
    "plt.ylabel('Kayıp')\n",
    "plt.legend()\n",
    "plt.title('Model Kayıpları')\n",
    "plt.show()"
   ]
  },
  {
   "cell_type": "code",
   "execution_count": 16,
   "id": "4f490160-038c-4716-a81a-09326b0d048e",
   "metadata": {},
   "outputs": [
    {
     "ename": "NameError",
     "evalue": "name 'X_test_tfidf' is not defined",
     "output_type": "error",
     "traceback": [
      "\u001b[1;31m---------------------------------------------------------------------------\u001b[0m",
      "\u001b[1;31mNameError\u001b[0m                                 Traceback (most recent call last)",
      "Cell \u001b[1;32mIn[16], line 6\u001b[0m\n\u001b[0;32m      1\u001b[0m \u001b[38;5;66;03m# ## 7. Model Performansının Değerlendirilmesi\u001b[39;00m\n\u001b[0;32m      2\u001b[0m \n\u001b[0;32m      3\u001b[0m \u001b[38;5;66;03m# In[9]:\u001b[39;00m\n\u001b[0;32m      4\u001b[0m \n\u001b[0;32m      5\u001b[0m \u001b[38;5;66;03m# Test veri setinde tahmin yapma\u001b[39;00m\n\u001b[1;32m----> 6\u001b[0m y_pred \u001b[38;5;241m=\u001b[39m model\u001b[38;5;241m.\u001b[39mpredict(\u001b[43mX_test_tfidf\u001b[49m)\n\u001b[0;32m      7\u001b[0m y_pred_classes \u001b[38;5;241m=\u001b[39m np\u001b[38;5;241m.\u001b[39margmax(y_pred, axis\u001b[38;5;241m=\u001b[39m\u001b[38;5;241m1\u001b[39m)\n\u001b[0;32m      9\u001b[0m \u001b[38;5;66;03m# Performans metrikleri\u001b[39;00m\n",
      "\u001b[1;31mNameError\u001b[0m: name 'X_test_tfidf' is not defined"
     ]
    }
   ],
   "source": [
    "\n",
    "\n",
    "# ## 7. Model Performansının Değerlendirilmesi\n",
    "\n",
    "# In[9]:\n",
    "\n",
    "# Test veri setinde tahmin yapma\n",
    "y_pred = model.predict(X_test_tfidf)\n",
    "y_pred_classes = np.argmax(y_pred, axis=1)\n",
    "\n",
    "# Performans metrikleri\n",
    "print(\"Accuracy:\", accuracy_score(y_test, y_pred_classes))\n",
    "print(\"\\nClassification Report:\\n\", classification_report(y_test, y_pred_classes, target_names=[\"Negative\", \"Neutral\", \"Positive\"]))\n",
    "\n",
    "# Confusion Matrix\n",
    "cm = confusion_matrix(y_test, y_pred_classes)\n",
    "sns.heatmap(cm, annot=True, fmt=\"d\", cmap=\"Blues\", xticklabels=[\"Negative\", \"Neutral\", \"Positive\"], yticklabels=[\"Negative\", \"Neutral\", \"Positive\"])\n",
    "plt.xlabel(\"Predicted\")\n",
    "plt.ylabel(\"True\")\n",
    "plt.title(\"Confusion Matrix\")\n",
    "plt.show()\n"
   ]
  },
  {
   "cell_type": "code",
   "execution_count": null,
   "id": "2c63983d-2a35-4e11-9f12-be4fe6c5d0d4",
   "metadata": {},
   "outputs": [],
   "source": []
  }
 ],
 "metadata": {
  "kernelspec": {
   "display_name": "Python (tensorflow_env)",
   "language": "python",
   "name": "tensorflow_env"
  },
  "language_info": {
   "codemirror_mode": {
    "name": "ipython",
    "version": 3
   },
   "file_extension": ".py",
   "mimetype": "text/x-python",
   "name": "python",
   "nbconvert_exporter": "python",
   "pygments_lexer": "ipython3",
   "version": "3.9.21"
  }
 },
 "nbformat": 4,
 "nbformat_minor": 5
}
